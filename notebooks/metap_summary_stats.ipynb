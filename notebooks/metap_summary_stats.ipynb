{
 "cells": [
  {
   "cell_type": "markdown",
   "id": "dd23da2b",
   "metadata": {},
   "source": [
    "This notebook calculates summary statistics for the metapangenomes."
   ]
  },
  {
   "cell_type": "code",
   "execution_count": 1,
   "id": "ee2e4fa2",
   "metadata": {},
   "outputs": [],
   "source": [
    "setwd(\"..\")"
   ]
  },
  {
   "cell_type": "code",
   "execution_count": 9,
   "id": "0a56ab57",
   "metadata": {},
   "outputs": [],
   "source": [
    "library(pagoo)\n",
    "library(dplyr)\n",
    "library(readr)\n",
    "library(ggplot2)\n",
    "library(aplot)\n",
    "set.seed(1)"
   ]
  },
  {
   "cell_type": "markdown",
   "id": "0aeaf087",
   "metadata": {},
   "source": [
    "## Functions"
   ]
  },
  {
   "cell_type": "code",
   "execution_count": 7,
   "id": "e49d3e11",
   "metadata": {},
   "outputs": [],
   "source": [
    "read_long_sketch_table_as_pagoo <- function(path, threshold = 10000){\n",
    "  sketch_table <- read_csv(path, show_col_types = F)\n",
    "  \n",
    "  # filter samples that don't have enough k-mers for the species\n",
    "  sketch_table_grp <- sketch_table %>%\n",
    "    group_by(acc) %>%\n",
    "    tally()\n",
    "  \n",
    "  print(sketch_table_grp)\n",
    "  \n",
    "  if(threshold == \"SD\"){\n",
    "    threshold <- mean(sketch_table_grp$n) - sd(sketch_table_grp$n)\n",
    "  }\n",
    "  \n",
    "  print(paste0(\"Threshold is:\", threshold))\n",
    "  \n",
    "  keep <- sketch_table_grp %>%\n",
    "    filter(n > threshold)\n",
    "  \n",
    "  sketch_table <- sketch_table %>%\n",
    "    filter(acc %in% keep$acc) %>%\n",
    "    select(gene    = minhash, \n",
    "           org     = acc,\n",
    "           cluster = minhash) \n",
    "  p <- pagoo(data = as.data.frame(sketch_table))\n",
    "  return(p)\n",
    "}"
   ]
  },
  {
   "cell_type": "code",
   "execution_count": 5,
   "id": "e7aca4f9",
   "metadata": {},
   "outputs": [],
   "source": [
    "format_metap_metrics <- function(path, threshold = 10000){\n",
    "  pg <- read_long_sketch_table_as_pagoo(path)\n",
    "  n <- nrow(pg$organisms)\n",
    "  summary_stats <- pg$summary_stats\n",
    "  alpha <- attr(pg$pg_power_law_fit(), \"alpha\")\n",
    "  species <- gsub(\".*s__\", \"\", path)\n",
    "  species <- gsub(\"_long.csv\", \"\", species)\n",
    "  species <- gsub(\"_\", \" \", species)\n",
    "  df <- data.frame(species = species,\n",
    "                   n = n,\n",
    "                   total = summary_stats$Number[1],\n",
    "                   core  = summary_stats$Number[2],\n",
    "                   shell = summary_stats$Number[3],\n",
    "                   cloud = summary_stats$Number[4],\n",
    "                   alpha = alpha)\n",
    "  return(df)\n",
    "}"
   ]
  },
  {
   "cell_type": "markdown",
   "id": "a620c3f8",
   "metadata": {},
   "source": [
    "## read in metapangenomes for different organisms"
   ]
  },
  {
   "cell_type": "code",
   "execution_count": 10,
   "id": "bc7d5371",
   "metadata": {},
   "outputs": [
    {
     "name": "stdout",
     "output_type": "stream",
     "text": [
      "\u001b[90m# A tibble: 12 × 2\u001b[39m\n",
      "   acc                                                        n\n",
      "   \u001b[3m\u001b[90m<chr>\u001b[39m\u001b[23m                                                  \u001b[3m\u001b[90m<int>\u001b[39m\u001b[23m\n",
      "\u001b[90m 1\u001b[39m HSM67VF9.GCA_000162535.1.s__Parabacteroides_distasonis \u001b[4m1\u001b[24m\u001b[4m1\u001b[24m766\n",
      "\u001b[90m 2\u001b[39m HSM67VFD.GCA_000162535.1.s__Parabacteroides_distasonis  \u001b[4m2\u001b[24m209\n",
      "\u001b[90m 3\u001b[39m HSM67VFJ.GCA_000162535.1.s__Parabacteroides_distasonis \u001b[4m1\u001b[24m\u001b[4m5\u001b[24m418\n",
      "\u001b[90m 4\u001b[39m HSM6XRQB.GCA_000162535.1.s__Parabacteroides_distasonis  \u001b[4m3\u001b[24m131\n",
      "\u001b[90m 5\u001b[39m HSM6XRQI.GCA_000162535.1.s__Parabacteroides_distasonis  \u001b[4m9\u001b[24m938\n",
      "\u001b[90m 6\u001b[39m HSM6XRQK.GCA_000162535.1.s__Parabacteroides_distasonis  \u001b[4m3\u001b[24m990\n",
      "\u001b[90m 7\u001b[39m HSM6XRQM.GCA_000162535.1.s__Parabacteroides_distasonis \u001b[4m1\u001b[24m\u001b[4m6\u001b[24m597\n",
      "\u001b[90m 8\u001b[39m HSM6XRQO.GCA_000162535.1.s__Parabacteroides_distasonis \u001b[4m1\u001b[24m\u001b[4m4\u001b[24m632\n",
      "\u001b[90m 9\u001b[39m HSM7CYY7.GCA_000162535.1.s__Parabacteroides_distasonis \u001b[4m1\u001b[24m\u001b[4m5\u001b[24m293\n",
      "\u001b[90m10\u001b[39m HSM7CYY9.GCA_000162535.1.s__Parabacteroides_distasonis \u001b[4m1\u001b[24m\u001b[4m5\u001b[24m823\n",
      "\u001b[90m11\u001b[39m HSM7CYYB.GCA_000162535.1.s__Parabacteroides_distasonis   140\n",
      "\u001b[90m12\u001b[39m HSM7CYYD.GCA_000162535.1.s__Parabacteroides_distasonis \u001b[4m1\u001b[24m\u001b[4m6\u001b[24m063\n",
      "[1] \"Threshold is:10000\"\n"
     ]
    },
    {
     "name": "stderr",
     "output_type": "stream",
     "text": [
      "Checking class.\n",
      "\n",
      "Checking dimnames.\n",
      "\n",
      "Creating gid (gene ids).\n",
      "\n",
      "Creating panmatrix.\n",
      "\n",
      "Populating class.\n",
      "\n"
     ]
    },
    {
     "name": "stdout",
     "output_type": "stream",
     "text": [
      "\u001b[90m# A tibble: 12 × 2\u001b[39m\n",
      "   acc                                                  n\n",
      "   \u001b[3m\u001b[90m<chr>\u001b[39m\u001b[23m                                            \u001b[3m\u001b[90m<int>\u001b[39m\u001b[23m\n",
      "\u001b[90m 1\u001b[39m HSM67VF9.GCF_009025805.1.s__Phocaeicola_vulgatus \u001b[4m1\u001b[24m\u001b[4m7\u001b[24m158\n",
      "\u001b[90m 2\u001b[39m HSM67VFD.GCF_009025805.1.s__Phocaeicola_vulgatus \u001b[4m1\u001b[24m\u001b[4m6\u001b[24m658\n",
      "\u001b[90m 3\u001b[39m HSM67VFJ.GCF_009025805.1.s__Phocaeicola_vulgatus \u001b[4m1\u001b[24m\u001b[4m5\u001b[24m713\n",
      "\u001b[90m 4\u001b[39m HSM6XRQB.GCF_009025805.1.s__Phocaeicola_vulgatus \u001b[4m1\u001b[24m\u001b[4m8\u001b[24m966\n",
      "\u001b[90m 5\u001b[39m HSM6XRQI.GCF_009025805.1.s__Phocaeicola_vulgatus \u001b[4m1\u001b[24m\u001b[4m8\u001b[24m147\n",
      "\u001b[90m 6\u001b[39m HSM6XRQK.GCF_009025805.1.s__Phocaeicola_vulgatus \u001b[4m2\u001b[24m\u001b[4m0\u001b[24m036\n",
      "\u001b[90m 7\u001b[39m HSM6XRQM.GCF_009025805.1.s__Phocaeicola_vulgatus \u001b[4m2\u001b[24m\u001b[4m1\u001b[24m421\n",
      "\u001b[90m 8\u001b[39m HSM6XRQO.GCF_009025805.1.s__Phocaeicola_vulgatus \u001b[4m2\u001b[24m\u001b[4m0\u001b[24m649\n",
      "\u001b[90m 9\u001b[39m HSM7CYY7.GCF_009025805.1.s__Phocaeicola_vulgatus \u001b[4m1\u001b[24m\u001b[4m5\u001b[24m010\n",
      "\u001b[90m10\u001b[39m HSM7CYY9.GCF_009025805.1.s__Phocaeicola_vulgatus \u001b[4m1\u001b[24m\u001b[4m5\u001b[24m656\n",
      "\u001b[90m11\u001b[39m HSM7CYYB.GCF_009025805.1.s__Phocaeicola_vulgatus  \u001b[4m1\u001b[24m044\n",
      "\u001b[90m12\u001b[39m HSM7CYYD.GCF_009025805.1.s__Phocaeicola_vulgatus \u001b[4m1\u001b[24m\u001b[4m6\u001b[24m262\n",
      "[1] \"Threshold is:10000\"\n"
     ]
    },
    {
     "name": "stderr",
     "output_type": "stream",
     "text": [
      "Checking class.\n",
      "\n",
      "Checking dimnames.\n",
      "\n",
      "Creating gid (gene ids).\n",
      "\n",
      "Creating panmatrix.\n",
      "\n",
      "Populating class.\n",
      "\n"
     ]
    },
    {
     "name": "stdout",
     "output_type": "stream",
     "text": [
      "\u001b[90m# A tibble: 12 × 2\u001b[39m\n",
      "   acc                                                   n\n",
      "   \u001b[3m\u001b[90m<chr>\u001b[39m\u001b[23m                                             \u001b[3m\u001b[90m<int>\u001b[39m\u001b[23m\n",
      "\u001b[90m 1\u001b[39m HSM67VF9.GCF_009020325.1.s__Bacteroides_uniformis  \u001b[4m9\u001b[24m550\n",
      "\u001b[90m 2\u001b[39m HSM67VFD.GCF_009020325.1.s__Bacteroides_uniformis  \u001b[4m1\u001b[24m826\n",
      "\u001b[90m 3\u001b[39m HSM67VFJ.GCF_009020325.1.s__Bacteroides_uniformis \u001b[4m1\u001b[24m\u001b[4m5\u001b[24m260\n",
      "\u001b[90m 4\u001b[39m HSM6XRQB.GCF_009020325.1.s__Bacteroides_uniformis \u001b[4m1\u001b[24m\u001b[4m6\u001b[24m963\n",
      "\u001b[90m 5\u001b[39m HSM6XRQI.GCF_009020325.1.s__Bacteroides_uniformis \u001b[4m1\u001b[24m\u001b[4m6\u001b[24m056\n",
      "\u001b[90m 6\u001b[39m HSM6XRQK.GCF_009020325.1.s__Bacteroides_uniformis \u001b[4m1\u001b[24m\u001b[4m7\u001b[24m904\n",
      "\u001b[90m 7\u001b[39m HSM6XRQM.GCF_009020325.1.s__Bacteroides_uniformis \u001b[4m1\u001b[24m\u001b[4m8\u001b[24m455\n",
      "\u001b[90m 8\u001b[39m HSM6XRQO.GCF_009020325.1.s__Bacteroides_uniformis \u001b[4m1\u001b[24m\u001b[4m7\u001b[24m755\n",
      "\u001b[90m 9\u001b[39m HSM7CYY7.GCF_009020325.1.s__Bacteroides_uniformis \u001b[4m1\u001b[24m\u001b[4m7\u001b[24m231\n",
      "\u001b[90m10\u001b[39m HSM7CYY9.GCF_009020325.1.s__Bacteroides_uniformis \u001b[4m1\u001b[24m\u001b[4m6\u001b[24m307\n",
      "\u001b[90m11\u001b[39m HSM7CYYB.GCF_009020325.1.s__Bacteroides_uniformis   396\n",
      "\u001b[90m12\u001b[39m HSM7CYYD.GCF_009020325.1.s__Bacteroides_uniformis \u001b[4m1\u001b[24m\u001b[4m6\u001b[24m224\n",
      "[1] \"Threshold is:10000\"\n"
     ]
    },
    {
     "name": "stderr",
     "output_type": "stream",
     "text": [
      "Checking class.\n",
      "\n",
      "Checking dimnames.\n",
      "\n",
      "Creating gid (gene ids).\n",
      "\n",
      "Creating panmatrix.\n",
      "\n",
      "Populating class.\n",
      "\n"
     ]
    },
    {
     "name": "stdout",
     "output_type": "stream",
     "text": [
      "\u001b[90m# A tibble: 12 × 2\u001b[39m\n",
      "   acc                                                  n\n",
      "   \u001b[3m\u001b[90m<chr>\u001b[39m\u001b[23m                                            \u001b[3m\u001b[90m<int>\u001b[39m\u001b[23m\n",
      "\u001b[90m 1\u001b[39m HSM67VF9.GCF_003458955.1.s__Bacteroides_fragilis \u001b[4m1\u001b[24m\u001b[4m6\u001b[24m580\n",
      "\u001b[90m 2\u001b[39m HSM67VFD.GCF_003458955.1.s__Bacteroides_fragilis  \u001b[4m1\u001b[24m441\n",
      "\u001b[90m 3\u001b[39m HSM67VFJ.GCF_003458955.1.s__Bacteroides_fragilis \u001b[4m1\u001b[24m\u001b[4m7\u001b[24m116\n",
      "\u001b[90m 4\u001b[39m HSM6XRQB.GCF_003458955.1.s__Bacteroides_fragilis  \u001b[4m3\u001b[24m281\n",
      "\u001b[90m 5\u001b[39m HSM6XRQI.GCF_003458955.1.s__Bacteroides_fragilis  \u001b[4m2\u001b[24m640\n",
      "\u001b[90m 6\u001b[39m HSM6XRQK.GCF_003458955.1.s__Bacteroides_fragilis  \u001b[4m3\u001b[24m523\n",
      "\u001b[90m 7\u001b[39m HSM6XRQM.GCF_003458955.1.s__Bacteroides_fragilis \u001b[4m1\u001b[24m\u001b[4m1\u001b[24m473\n",
      "\u001b[90m 8\u001b[39m HSM6XRQO.GCF_003458955.1.s__Bacteroides_fragilis \u001b[4m1\u001b[24m\u001b[4m4\u001b[24m979\n",
      "\u001b[90m 9\u001b[39m HSM7CYY7.GCF_003458955.1.s__Bacteroides_fragilis \u001b[4m1\u001b[24m\u001b[4m6\u001b[24m727\n",
      "\u001b[90m10\u001b[39m HSM7CYY9.GCF_003458955.1.s__Bacteroides_fragilis \u001b[4m1\u001b[24m\u001b[4m6\u001b[24m789\n",
      "\u001b[90m11\u001b[39m HSM7CYYB.GCF_003458955.1.s__Bacteroides_fragilis  \u001b[4m2\u001b[24m601\n",
      "\u001b[90m12\u001b[39m HSM7CYYD.GCF_003458955.1.s__Bacteroides_fragilis \u001b[4m1\u001b[24m\u001b[4m6\u001b[24m905\n",
      "[1] \"Threshold is:10000\"\n"
     ]
    },
    {
     "name": "stderr",
     "output_type": "stream",
     "text": [
      "Checking class.\n",
      "\n",
      "Checking dimnames.\n",
      "\n",
      "Creating gid (gene ids).\n",
      "\n",
      "Creating panmatrix.\n",
      "\n",
      "Populating class.\n",
      "\n"
     ]
    },
    {
     "name": "stdout",
     "output_type": "stream",
     "text": [
      "\u001b[90m# A tibble: 12 × 2\u001b[39m\n",
      "   acc                                                   n\n",
      "   \u001b[3m\u001b[90m<chr>\u001b[39m\u001b[23m                                             \u001b[3m\u001b[90m<int>\u001b[39m\u001b[23m\n",
      "\u001b[90m 1\u001b[39m HSM67VF9.GCF_003433765.1.s__Enterocloster_bolteae    67\n",
      "\u001b[90m 2\u001b[39m HSM67VFD.GCF_003433765.1.s__Enterocloster_bolteae   505\n",
      "\u001b[90m 3\u001b[39m HSM67VFJ.GCF_003433765.1.s__Enterocloster_bolteae \u001b[4m1\u001b[24m\u001b[4m1\u001b[24m460\n",
      "\u001b[90m 4\u001b[39m HSM6XRQB.GCF_003433765.1.s__Enterocloster_bolteae \u001b[4m1\u001b[24m\u001b[4m7\u001b[24m025\n",
      "\u001b[90m 5\u001b[39m HSM6XRQI.GCF_003433765.1.s__Enterocloster_bolteae  \u001b[4m5\u001b[24m361\n",
      "\u001b[90m 6\u001b[39m HSM6XRQK.GCF_003433765.1.s__Enterocloster_bolteae  \u001b[4m6\u001b[24m797\n",
      "\u001b[90m 7\u001b[39m HSM6XRQM.GCF_003433765.1.s__Enterocloster_bolteae  \u001b[4m4\u001b[24m536\n",
      "\u001b[90m 8\u001b[39m HSM6XRQO.GCF_003433765.1.s__Enterocloster_bolteae  \u001b[4m2\u001b[24m846\n",
      "\u001b[90m 9\u001b[39m HSM7CYY7.GCF_003433765.1.s__Enterocloster_bolteae \u001b[4m1\u001b[24m\u001b[4m7\u001b[24m469\n",
      "\u001b[90m10\u001b[39m HSM7CYY9.GCF_003433765.1.s__Enterocloster_bolteae  \u001b[4m7\u001b[24m647\n",
      "\u001b[90m11\u001b[39m HSM7CYYB.GCF_003433765.1.s__Enterocloster_bolteae    96\n",
      "\u001b[90m12\u001b[39m HSM7CYYD.GCF_003433765.1.s__Enterocloster_bolteae \u001b[4m1\u001b[24m\u001b[4m4\u001b[24m602\n",
      "[1] \"Threshold is:10000\"\n"
     ]
    },
    {
     "name": "stderr",
     "output_type": "stream",
     "text": [
      "Checking class.\n",
      "\n",
      "Checking dimnames.\n",
      "\n",
      "Creating gid (gene ids).\n",
      "\n",
      "Creating panmatrix.\n",
      "\n",
      "Populating class.\n",
      "\n"
     ]
    },
    {
     "name": "stdout",
     "output_type": "stream",
     "text": [
      "\u001b[90m# A tibble: 12 × 2\u001b[39m\n",
      "   acc                                                    n\n",
      "   \u001b[3m\u001b[90m<chr>\u001b[39m\u001b[23m                                              \u001b[3m\u001b[90m<int>\u001b[39m\u001b[23m\n",
      "\u001b[90m 1\u001b[39m HSM67VF9.GCF_003475305.1.s__Parabacteroides_merdae \u001b[4m1\u001b[24m\u001b[4m1\u001b[24m602\n",
      "\u001b[90m 2\u001b[39m HSM67VFD.GCF_003475305.1.s__Parabacteroides_merdae \u001b[4m1\u001b[24m\u001b[4m3\u001b[24m932\n",
      "\u001b[90m 3\u001b[39m HSM67VFJ.GCF_003475305.1.s__Parabacteroides_merdae \u001b[4m1\u001b[24m\u001b[4m4\u001b[24m278\n",
      "\u001b[90m 4\u001b[39m HSM6XRQB.GCF_003475305.1.s__Parabacteroides_merdae  \u001b[4m2\u001b[24m310\n",
      "\u001b[90m 5\u001b[39m HSM6XRQI.GCF_003475305.1.s__Parabacteroides_merdae  \u001b[4m2\u001b[24m095\n",
      "\u001b[90m 6\u001b[39m HSM6XRQK.GCF_003475305.1.s__Parabacteroides_merdae  \u001b[4m2\u001b[24m437\n",
      "\u001b[90m 7\u001b[39m HSM6XRQM.GCF_003475305.1.s__Parabacteroides_merdae  \u001b[4m3\u001b[24m126\n",
      "\u001b[90m 8\u001b[39m HSM6XRQO.GCF_003475305.1.s__Parabacteroides_merdae  \u001b[4m2\u001b[24m878\n",
      "\u001b[90m 9\u001b[39m HSM7CYY7.GCF_003475305.1.s__Parabacteroides_merdae \u001b[4m1\u001b[24m\u001b[4m4\u001b[24m540\n",
      "\u001b[90m10\u001b[39m HSM7CYY9.GCF_003475305.1.s__Parabacteroides_merdae \u001b[4m1\u001b[24m\u001b[4m4\u001b[24m982\n",
      "\u001b[90m11\u001b[39m HSM7CYYB.GCF_003475305.1.s__Parabacteroides_merdae   182\n",
      "\u001b[90m12\u001b[39m HSM7CYYD.GCF_003475305.1.s__Parabacteroides_merdae \u001b[4m1\u001b[24m\u001b[4m5\u001b[24m429\n",
      "[1] \"Threshold is:10000\"\n"
     ]
    },
    {
     "name": "stderr",
     "output_type": "stream",
     "text": [
      "Checking class.\n",
      "\n",
      "Checking dimnames.\n",
      "\n",
      "Creating gid (gene ids).\n",
      "\n",
      "Creating panmatrix.\n",
      "\n",
      "Populating class.\n",
      "\n"
     ]
    }
   ],
   "source": [
    "pd_mp <- format_metap_metrics(path = \"outputs/nbhd_sketch_tables_species/GCA_000162535.1-s__Parabacteroides_distasonis_long.csv\")\n",
    "pv_mp <- format_metap_metrics(path = \"outputs/nbhd_sketch_tables_species/GCF_009025805.1-s__Phocaeicola_vulgatus_long.csv\")\n",
    "bu_mp <- format_metap_metrics(path = \"outputs/nbhd_sketch_tables_species/GCF_009020325.1-s__Bacteroides_uniformis_long.csv\")\n",
    "bf_mp <- format_metap_metrics(path = \"outputs/nbhd_sketch_tables_species/GCF_003458955.1-s__Bacteroides_fragilis_long.csv\")\n",
    "eb_mp <- format_metap_metrics(path = \"outputs/nbhd_sketch_tables_species/GCF_003433765.1-s__Enterocloster_bolteae_long.csv\")\n",
    "pm_mp <- format_metap_metrics(path = \"outputs/nbhd_sketch_tables_species/GCF_003475305.1-s__Parabacteroides_merdae_long.csv\")"
   ]
  },
  {
   "cell_type": "code",
   "execution_count": 11,
   "id": "a2e68412",
   "metadata": {},
   "outputs": [
    {
     "data": {
      "text/html": [
       "<table class=\"dataframe\">\n",
       "<caption>A data.frame: 6 × 10</caption>\n",
       "<thead>\n",
       "\t<tr><th scope=col>species</th><th scope=col>n</th><th scope=col>total</th><th scope=col>core</th><th scope=col>shell</th><th scope=col>cloud</th><th scope=col>alpha</th><th scope=col>core_pct</th><th scope=col>shell_pct</th><th scope=col>cloud_pct</th></tr>\n",
       "\t<tr><th scope=col>&lt;chr&gt;</th><th scope=col>&lt;int&gt;</th><th scope=col>&lt;int&gt;</th><th scope=col>&lt;int&gt;</th><th scope=col>&lt;int&gt;</th><th scope=col>&lt;int&gt;</th><th scope=col>&lt;dbl&gt;</th><th scope=col>&lt;dbl&gt;</th><th scope=col>&lt;dbl&gt;</th><th scope=col>&lt;dbl&gt;</th></tr>\n",
       "</thead>\n",
       "<tbody>\n",
       "\t<tr><td>Bacteroides fragilis      </td><td> 7</td><td>24819</td><td>13983</td><td>2797</td><td> 8039</td><td>0.7926140</td><td>56.3</td><td>11.3</td><td>32.4</td></tr>\n",
       "\t<tr><td>Bacteroides uniformis     </td><td> 9</td><td>32197</td><td>12238</td><td>7188</td><td>12771</td><td>0.6973176</td><td>38.0</td><td>22.3</td><td>39.7</td></tr>\n",
       "\t<tr><td>Enterocloster bolteae     </td><td> 4</td><td>23620</td><td>13189</td><td>4324</td><td> 6107</td><td>0.6479514</td><td>55.8</td><td>18.3</td><td>25.9</td></tr>\n",
       "\t<tr><td>Parabacteroides distasonis</td><td> 7</td><td>25789</td><td>10922</td><td>7960</td><td> 6907</td><td>0.7160248</td><td>42.4</td><td>30.9</td><td>26.8</td></tr>\n",
       "\t<tr><td>Parabacteroides merdae    </td><td> 6</td><td>19985</td><td>12637</td><td>1924</td><td> 5424</td><td>0.7983002</td><td>63.2</td><td> 9.6</td><td>27.1</td></tr>\n",
       "\t<tr><td>Phocaeicola vulgatus      </td><td>11</td><td>41005</td><td>12437</td><td>8376</td><td>20192</td><td>0.6484859</td><td>30.3</td><td>20.4</td><td>49.2</td></tr>\n",
       "</tbody>\n",
       "</table>\n"
      ],
      "text/latex": [
       "A data.frame: 6 × 10\n",
       "\\begin{tabular}{llllllllll}\n",
       " species & n & total & core & shell & cloud & alpha & core\\_pct & shell\\_pct & cloud\\_pct\\\\\n",
       " <chr> & <int> & <int> & <int> & <int> & <int> & <dbl> & <dbl> & <dbl> & <dbl>\\\\\n",
       "\\hline\n",
       "\t Bacteroides fragilis       &  7 & 24819 & 13983 & 2797 &  8039 & 0.7926140 & 56.3 & 11.3 & 32.4\\\\\n",
       "\t Bacteroides uniformis      &  9 & 32197 & 12238 & 7188 & 12771 & 0.6973176 & 38.0 & 22.3 & 39.7\\\\\n",
       "\t Enterocloster bolteae      &  4 & 23620 & 13189 & 4324 &  6107 & 0.6479514 & 55.8 & 18.3 & 25.9\\\\\n",
       "\t Parabacteroides distasonis &  7 & 25789 & 10922 & 7960 &  6907 & 0.7160248 & 42.4 & 30.9 & 26.8\\\\\n",
       "\t Parabacteroides merdae     &  6 & 19985 & 12637 & 1924 &  5424 & 0.7983002 & 63.2 &  9.6 & 27.1\\\\\n",
       "\t Phocaeicola vulgatus       & 11 & 41005 & 12437 & 8376 & 20192 & 0.6484859 & 30.3 & 20.4 & 49.2\\\\\n",
       "\\end{tabular}\n"
      ],
      "text/markdown": [
       "\n",
       "A data.frame: 6 × 10\n",
       "\n",
       "| species &lt;chr&gt; | n &lt;int&gt; | total &lt;int&gt; | core &lt;int&gt; | shell &lt;int&gt; | cloud &lt;int&gt; | alpha &lt;dbl&gt; | core_pct &lt;dbl&gt; | shell_pct &lt;dbl&gt; | cloud_pct &lt;dbl&gt; |\n",
       "|---|---|---|---|---|---|---|---|---|---|\n",
       "| Bacteroides fragilis       |  7 | 24819 | 13983 | 2797 |  8039 | 0.7926140 | 56.3 | 11.3 | 32.4 |\n",
       "| Bacteroides uniformis      |  9 | 32197 | 12238 | 7188 | 12771 | 0.6973176 | 38.0 | 22.3 | 39.7 |\n",
       "| Enterocloster bolteae      |  4 | 23620 | 13189 | 4324 |  6107 | 0.6479514 | 55.8 | 18.3 | 25.9 |\n",
       "| Parabacteroides distasonis |  7 | 25789 | 10922 | 7960 |  6907 | 0.7160248 | 42.4 | 30.9 | 26.8 |\n",
       "| Parabacteroides merdae     |  6 | 19985 | 12637 | 1924 |  5424 | 0.7983002 | 63.2 |  9.6 | 27.1 |\n",
       "| Phocaeicola vulgatus       | 11 | 41005 | 12437 | 8376 | 20192 | 0.6484859 | 30.3 | 20.4 | 49.2 |\n",
       "\n"
      ],
      "text/plain": [
       "  species                    n  total core  shell cloud alpha     core_pct\n",
       "1 Bacteroides fragilis        7 24819 13983 2797   8039 0.7926140 56.3    \n",
       "2 Bacteroides uniformis       9 32197 12238 7188  12771 0.6973176 38.0    \n",
       "3 Enterocloster bolteae       4 23620 13189 4324   6107 0.6479514 55.8    \n",
       "4 Parabacteroides distasonis  7 25789 10922 7960   6907 0.7160248 42.4    \n",
       "5 Parabacteroides merdae      6 19985 12637 1924   5424 0.7983002 63.2    \n",
       "6 Phocaeicola vulgatus       11 41005 12437 8376  20192 0.6484859 30.3    \n",
       "  shell_pct cloud_pct\n",
       "1 11.3      32.4     \n",
       "2 22.3      39.7     \n",
       "3 18.3      25.9     \n",
       "4 30.9      26.8     \n",
       "5  9.6      27.1     \n",
       "6 20.4      49.2     "
      ]
     },
     "metadata": {},
     "output_type": "display_data"
    }
   ],
   "source": [
    "metap_stats <- bind_rows(bf_mp, bu_mp, eb_mp, pd_mp, pm_mp, pv_mp)\n",
    "metap_stats %>%\n",
    "  mutate(core_pct = round((core/total)*100, digits = 1),\n",
    "         shell_pct = round((shell/total)*100, digits = 1),\n",
    "         cloud_pct = round((cloud/total)*100, digits = 1))"
   ]
  },
  {
   "cell_type": "code",
   "execution_count": null,
   "id": "c7a03bdb",
   "metadata": {},
   "outputs": [],
   "source": []
  }
 ],
 "metadata": {
  "kernelspec": {
   "display_name": "R",
   "language": "R",
   "name": "ir"
  },
  "language_info": {
   "codemirror_mode": "r",
   "file_extension": ".r",
   "mimetype": "text/x-r-source",
   "name": "R",
   "pygments_lexer": "r",
   "version": "4.1.3"
  }
 },
 "nbformat": 4,
 "nbformat_minor": 5
}
